{
 "cells": [
  {
   "cell_type": "code",
   "execution_count": 4,
   "metadata": {},
   "outputs": [
    {
     "name": "stdout",
     "output_type": "stream",
     "text": [
      "La palabra no es un palíndromo.\n"
     ]
    }
   ],
   "source": [
    "#EJERCICIO N°4\n",
    "palabra = input(\"Ingrese una palabra: \")\n",
    "\n",
    "palabra = palabra.lower()\n",
    "\n",
    "sinEspacios = palabra.replace(\" \", \"\")\n",
    "\n",
    "if sinEspacios == sinEspacios[::-1]:\n",
    "    print(\"La palabra es un palíndromo.\")\n",
    "else:\n",
    "    print(\"La palabra no es un palíndromo.\")"
   ]
  }
 ],
 "metadata": {
  "kernelspec": {
   "display_name": "NuevoEntorno",
   "language": "python",
   "name": "python3"
  },
  "language_info": {
   "codemirror_mode": {
    "name": "ipython",
    "version": 3
   },
   "file_extension": ".py",
   "mimetype": "text/x-python",
   "name": "python",
   "nbconvert_exporter": "python",
   "pygments_lexer": "ipython3",
   "version": "3.11.5"
  }
 },
 "nbformat": 4,
 "nbformat_minor": 2
}
