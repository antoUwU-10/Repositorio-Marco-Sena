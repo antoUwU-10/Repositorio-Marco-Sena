{
 "cells": [
  {
   "cell_type": "code",
   "execution_count": 5,
   "metadata": {},
   "outputs": [
    {
     "name": "stdout",
     "output_type": "stream",
     "text": [
      "arbol y arbol son anagramas.\n"
     ]
    }
   ],
   "source": [
    "#EJERCICIO N°6\n",
    "ugu1 = input(\"Ingrese la primera palabra: \")\n",
    "ugu2 = input(\"Ingrese la segunda palabra: \")\n",
    "\n",
    "ugu1 = ugu1.lower()\n",
    "ugu2 = ugu2.lower()\n",
    "\n",
    "ugu1 = ugu1.replace(\" \", \"\")\n",
    "ugu2 = ugu2.replace(\" \", \"\")\n",
    "\n",
    "if sorted(ugu1) == sorted(ugu2):\n",
    "    print(ugu1, \"y\", ugu2, \"son anagramas.\")\n",
    "else:\n",
    "    print(ugu1, \"y\", ugu2, \"no son anagramas.\")\n"
   ]
  }
 ],
 "metadata": {
  "kernelspec": {
   "display_name": "NuevoEntorno",
   "language": "python",
   "name": "python3"
  },
  "language_info": {
   "codemirror_mode": {
    "name": "ipython",
    "version": 3
   },
   "file_extension": ".py",
   "mimetype": "text/x-python",
   "name": "python",
   "nbconvert_exporter": "python",
   "pygments_lexer": "ipython3",
   "version": "3.11.5"
  }
 },
 "nbformat": 4,
 "nbformat_minor": 2
}
