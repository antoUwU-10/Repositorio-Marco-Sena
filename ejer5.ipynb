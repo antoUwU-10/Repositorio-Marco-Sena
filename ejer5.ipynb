{
 "cells": [
  {
   "cell_type": "code",
   "execution_count": 15,
   "metadata": {},
   "outputs": [
    {
     "name": "stdout",
     "output_type": "stream",
     "text": [
      "El número más repetido es el 2 y se ha repetido 2 veces\n"
     ]
    }
   ],
   "source": [
    "#EJERCICIO N°5\n",
    "cantidad = 0\n",
    "cont = 0\n",
    "lista = []\n",
    "\n",
    "for i in range(0,7):\n",
    "    numero = int(input(\"Ingrese el número \" + str(i+1) +\":\"))\n",
    "    lista.append(numero)\n",
    "    #lista[i] = numero\n",
    "\n",
    "for i in range(0,7):\n",
    "    for j in range(0,7):\n",
    "        if(lista[i] == lista[j]):\n",
    "            cont = cont + 1\n",
    "    \n",
    "    if(cont > cantidad):\n",
    "            cantidad = cont\n",
    "            numero = lista[i]\n",
    "    cont = 0\n",
    "\n",
    "print(\"El número más repetido es el\", numero, \"y se ha repetido\", cantidad, \"veces\")"
   ]
  }
 ],
 "metadata": {
  "kernelspec": {
   "display_name": "NuevoEntorno",
   "language": "python",
   "name": "python3"
  },
  "language_info": {
   "codemirror_mode": {
    "name": "ipython",
    "version": 3
   },
   "file_extension": ".py",
   "mimetype": "text/x-python",
   "name": "python",
   "nbconvert_exporter": "python",
   "pygments_lexer": "ipython3",
   "version": "3.11.5"
  }
 },
 "nbformat": 4,
 "nbformat_minor": 2
}
