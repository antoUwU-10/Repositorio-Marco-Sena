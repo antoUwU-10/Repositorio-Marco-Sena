{
 "cells": [
  {
   "cell_type": "code",
   "execution_count": 2,
   "metadata": {},
   "outputs": [
    {
     "name": "stdout",
     "output_type": "stream",
     "text": [
      "El número mayor es  7  y el número menor es  1\n"
     ]
    }
   ],
   "source": [
    "#EJERCICIO N°3\n",
    "numero = int(input(\"Ingrese la cantidad de números que desea ingresar: \"))\n",
    "numeroMayor = 0\n",
    "numeroMenor = 0\n",
    "\n",
    "\n",
    "for i in range (0, numero):\n",
    "    numeroUgu = int(input(\"Ingrese el número\"))\n",
    "    if(i == 0):\n",
    "        numeroMayor = numeroUgu\n",
    "        numeroMenor = numeroUgu\n",
    "\n",
    "    if(numeroUgu > numeroMayor):\n",
    "        numeroMayor = numeroUgu\n",
    "\n",
    "    if(numeroUgu < numeroMenor):\n",
    "        numeroMenor = numeroUgu\n",
    "\n",
    "print(\"El número mayor es \", numeroMayor, \" y el número menor es \", numeroMenor)"
   ]
  }
 ],
 "metadata": {
  "kernelspec": {
   "display_name": "NuevoEntorno",
   "language": "python",
   "name": "python3"
  },
  "language_info": {
   "codemirror_mode": {
    "name": "ipython",
    "version": 3
   },
   "file_extension": ".py",
   "mimetype": "text/x-python",
   "name": "python",
   "nbconvert_exporter": "python",
   "pygments_lexer": "ipython3",
   "version": "3.11.5"
  }
 },
 "nbformat": 4,
 "nbformat_minor": 2
}
