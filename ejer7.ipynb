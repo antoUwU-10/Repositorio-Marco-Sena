{
 "cells": [
  {
   "cell_type": "code",
   "execution_count": 1,
   "metadata": {},
   "outputs": [
    {
     "name": "stdout",
     "output_type": "stream",
     "text": [
      "Lista ordenada: [3, 4, 5, 6, 10]\n"
     ]
    }
   ],
   "source": [
    "#EJERCICIO N°7\n",
    "numero = int(input(\"Ingrese la cantidad de números que desea ingresar: \"))\n",
    "numeros = []\n",
    "\n",
    "for i in range(numero):\n",
    "    numeroUgu = int(input(\"Ingrese el número: \"))\n",
    "    numeros.append(numeroUgu)\n",
    "\n",
    "long = len(numeros)\n",
    "for i in range(long):\n",
    "    for j in range(0, long - i - 1):\n",
    "        if numeros[j] > numeros[j + 1]:\n",
    "            numeros[j], numeros[j + 1] = numeros[j + 1], numeros[j]\n",
    "\n",
    "print(\"Lista ordenada:\", numeros)"
   ]
  }
 ],
 "metadata": {
  "kernelspec": {
   "display_name": "NuevoEntorno",
   "language": "python",
   "name": "python3"
  },
  "language_info": {
   "codemirror_mode": {
    "name": "ipython",
    "version": 3
   },
   "file_extension": ".py",
   "mimetype": "text/x-python",
   "name": "python",
   "nbconvert_exporter": "python",
   "pygments_lexer": "ipython3",
   "version": "3.11.5"
  }
 },
 "nbformat": 4,
 "nbformat_minor": 2
}
