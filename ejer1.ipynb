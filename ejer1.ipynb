{
 "cells": [
  {
   "cell_type": "code",
   "execution_count": 9,
   "metadata": {},
   "outputs": [
    {
     "name": "stdout",
     "output_type": "stream",
     "text": [
      "El factorial es:  3628800\n"
     ]
    }
   ],
   "source": [
    "#EJERCICIO N°1\n",
    "numero = int(input(\"Ingrese el número: \"))\n",
    "miau = \"El factorial es: \"\n",
    "factorial = 1\n",
    "\n",
    "if numero < 0:\n",
    "    print(\"Ingrese un valor entero.\")\n",
    "elif numero == 0:\n",
    "    print(miau, \"1\")\n",
    "elif numero > 0:\n",
    "    for i in range(1, numero + 1):\n",
    "        factorial = factorial * i\n",
    "\n",
    "    print(miau, factorial)"
   ]
  }
 ],
 "metadata": {
  "kernelspec": {
   "display_name": "NuevoEntorno",
   "language": "python",
   "name": "python3"
  },
  "language_info": {
   "codemirror_mode": {
    "name": "ipython",
    "version": 3
   },
   "file_extension": ".py",
   "mimetype": "text/x-python",
   "name": "python",
   "nbconvert_exporter": "python",
   "pygments_lexer": "ipython3",
   "version": "3.11.5"
  }
 },
 "nbformat": 4,
 "nbformat_minor": 2
}
