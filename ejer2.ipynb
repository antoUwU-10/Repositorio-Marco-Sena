{
 "cells": [
  {
   "cell_type": "code",
   "execution_count": 8,
   "metadata": {},
   "outputs": [
    {
     "name": "stdout",
     "output_type": "stream",
     "text": [
      "20 no es un número primo.\n"
     ]
    }
   ],
   "source": [
    "#EJERCICIO N°2\n",
    "numero = int(input(\"Ingrese un número: \"))\n",
    "\n",
    "if numero > 1:\n",
    "    esPrimo = True\n",
    "\n",
    "    for i in range(2, numero):\n",
    "        if numero % i == 0:\n",
    "            esPrimo = False\n",
    "            break\n",
    "\n",
    "    if esPrimo:\n",
    "        print(numero, \"es un número primo.\")\n",
    "    else:\n",
    "        print(numero, \"no es un número primo.\")\n",
    "else:\n",
    "    print(\"Ingrese un número positivo.\")"
   ]
  }
 ],
 "metadata": {
  "kernelspec": {
   "display_name": "NuevoEntorno",
   "language": "python",
   "name": "python3"
  },
  "language_info": {
   "codemirror_mode": {
    "name": "ipython",
    "version": 3
   },
   "file_extension": ".py",
   "mimetype": "text/x-python",
   "name": "python",
   "nbconvert_exporter": "python",
   "pygments_lexer": "ipython3",
   "version": "3.11.5"
  }
 },
 "nbformat": 4,
 "nbformat_minor": 2
}
